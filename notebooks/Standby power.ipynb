{
 "cells": [
  {
   "cell_type": "markdown",
   "metadata": {},
   "source": [
    "# Standby consumption analysis\n",
    "\n",
    "OpenGrid has a standby consumption analysis. This analysis will extract the minimum consumption during a specified period of the day. By default, the minimum over the entire day is found, but the method can be tuned to analyse eg. only the night. \n",
    "\n",
    "### Imports and loading data"
   ]
  },
  {
   "cell_type": "code",
   "execution_count": null,
   "metadata": {},
   "outputs": [],
   "source": [
    "import opengrid as og\n",
    "import pandas as pd\n",
    "plt = og.plot_style()"
   ]
  },
  {
   "cell_type": "markdown",
   "metadata": {},
   "source": [
    "For a correct standby power analysis **we need high-resolution data, eg. minute-values**.  With hourly values we would often overestimate the real standby power as fridges, freezers or other intermittent short loads are included in the hourly consumption measure.  \n",
    "\n",
    "In this demo we use electricity consumption data with 1-minute resolution for a single sensor. First, we load the dataframe and make a quick plot to show the data."
   ]
  },
  {
   "cell_type": "code",
   "execution_count": null,
   "metadata": {},
   "outputs": [],
   "source": [
    "ts = og.datasets.get('elec_power_min_1sensor')\n",
    "ax = ts.plot()\n",
    "fig = ax.set_ylabel('W')"
   ]
  },
  {
   "cell_type": "markdown",
   "metadata": {},
   "source": [
    "### Compute standby power\n",
    "\n",
    "The daily standby power consumption is the daily minimum electric power. However, we can also compute the standby power for each 12h period, as shown below.  Both results are compared in the graph. "
   ]
  },
  {
   "cell_type": "code",
   "execution_count": null,
   "metadata": {},
   "outputs": [],
   "source": [
    "standby = og.analysis.standby(ts) # returns a pandas Series"
   ]
  },
  {
   "cell_type": "code",
   "execution_count": null,
   "metadata": {},
   "outputs": [],
   "source": [
    "fig = plt.plot(standby.index, standby.values, marker='D', linestyle='-.')\n",
    "plt.title('Daily standby power')\n",
    "_ = fig[0].axes.set_ylabel('W')"
   ]
  },
  {
   "cell_type": "code",
   "execution_count": null,
   "metadata": {},
   "outputs": [],
   "source": [
    "print(\"The mean daily standby power is {:.1f} W\".format(standby.mean()))\n",
    "print(\"The minimum daily standby power is {:.1f} W\".format(standby.min()))"
   ]
  },
  {
   "cell_type": "markdown",
   "metadata": {},
   "source": [
    "### Interpretation\n",
    "\n",
    "From the results we can see that the daily standby power is lower than 60 W on all days except the 8th of October. This is a low value, most dwellings will have a higher standby power. The increased standbly power on the 8th of October is caused by **equipment (typically lighting) is not turned off as excpected**. \n",
    "\n",
    "We can now compute the share of the standby consumption in the total electricity consumption over this period. We consider the minimum of 51.1 W as the *real standby power* and all consumption above as *variable load*. "
   ]
  },
  {
   "cell_type": "code",
   "execution_count": null,
   "metadata": {},
   "outputs": [],
   "source": [
    "p_tot = ts.sum()/60/1000 # conversion to kWh\n",
    "p_standby = standby.min() * len(ts) / 60/1000 # kWh\n",
    "p_var = p_tot - p_standby\n",
    "\n",
    "print(\"Standby power: {:.1%} of total consumption.\".format(p_standby/p_tot))"
   ]
  },
  {
   "cell_type": "code",
   "execution_count": null,
   "metadata": {},
   "outputs": [],
   "source": [
    "fig1, ax1 = plt.subplots(figsize=(5,5))\n",
    "ax1.pie([p_standby, p_var], \n",
    "        explode=(0.1, 0), \n",
    "        labels=['Standby consumption', 'Variable consumption'], \n",
    "        autopct='%1.1f%%',\n",
    "        shadow=True, \n",
    "        startangle=90)\n",
    "_ = ax1.axis('equal')  # Equal aspect ratio ensures that pie is drawn as a circle."
   ]
  },
  {
   "cell_type": "code",
   "execution_count": null,
   "metadata": {},
   "outputs": [],
   "source": []
  }
 ],
 "metadata": {
  "kernelspec": {
   "display_name": "Python 3",
   "language": "python",
   "name": "python3"
  },
  "language_info": {
   "codemirror_mode": {
    "name": "ipython",
    "version": 3
   },
   "file_extension": ".py",
   "mimetype": "text/x-python",
   "name": "python",
   "nbconvert_exporter": "python",
   "pygments_lexer": "ipython3",
   "version": "3.6.4"
  }
 },
 "nbformat": 4,
 "nbformat_minor": 1
}
