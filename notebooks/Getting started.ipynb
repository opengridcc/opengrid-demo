{
 "cells": [
  {
   "cell_type": "markdown",
   "metadata": {},
   "source": [
    "# Getting started with OpenGrid\n",
    "\n",
    "The OpenGrid project has the ambition to provide open source algorithms to extract more knowledge and insights from building monitoring data. The algorithms are available in the `opengrid` python module (<a href=\"https://pypi.python.org/pypi/opengrid/\" target=\"_blank\">available on pypi</a>) and we have created a set of jupyter notebooks to illustrate their use. \n",
    "\n",
    "In this notebook show how to install `opengrid` and then we introduce some general concepts like loading sample data and making your first plots. \n",
    "\n",
    "## Installation as user\n",
    "\n",
    "If you have a verion of Python (Python 3.3 or greater, or Python 2.7), you can install the module with \n",
    "\n",
    "    pip install opengrid\n",
    "    \n",
    "Please note that on some systems with Python 3.x, you need to replace `pip` by `pip3`.  If you also want to run the notebooks, you will have to install `jupyter notebook` separately because we did not include it in the requirements of `opengrid`.  Just do\n",
    "\n",
    "    pip install jupyter\n",
    "    \n",
    "## Installation as developer\n",
    "\n",
    "As developer, you'll want the source code.  The detailed instructions for installation and setup can be found <a href=\"https://github.com/opengridcc/opengrid/#installation\" target=\"_blank\">here</a>. In short: fork and then clone your fork of the <a href=\"https://github.com/opengridcc/opengrid/\" target=\"_blank\">opengrid repository on github</a>. Enter your cloned copy of the code and install the requirements with \n",
    "\n",
    "    pip install -r requirements.txt\n",
    "    \n",
    "Also install `jupyter notebook` as indicated above. Finally, add the path to your opengrid clone to your `PYTHONPATH`.  Test your setup by running a unittest as described."
   ]
  },
  {
   "cell_type": "markdown",
   "metadata": {},
   "source": [
    "# Imports and module structure\n",
    "\n",
    "By convention, import opengrid as follows"
   ]
  },
  {
   "cell_type": "code",
   "execution_count": null,
   "metadata": {},
   "outputs": [],
   "source": [
    "import opengrid as og"
   ]
  },
  {
   "cell_type": "markdown",
   "metadata": {},
   "source": [
    "The structure of the opengrid module is as follows:\n",
    "\n",
    "    opengrid\n",
    "    | -datasets\n",
    "    | -library\n",
    "      | -analysis\n",
    "      | -weather\n",
    "      | -regression\n",
    "      | -plotting\n",
    "      | -exceptions\n",
    "    | -recipes\n",
    "    | -tests\n",
    "\n",
    "In `datasets` we have collected some sample data and an easy method to load the data (see below). \n",
    "All algorithms are available in the `library`, the core of the module. The most-used methods are also made available directly under opengrid. Type `og.<TAB>` in a notebook cell or python console to see what's available. \n",
    "In `recipes` we collect python scripts that can be run as jobs and all tests are in the `tests` folder. \n",
    "\n",
    "The jupyter notebooks (like this one) are not included in the python module, but in the `notebooks` folder, next to the `opengrid` folder that forms the python module. \n",
    "\n",
    "To set some **plot style defaults**, we have a simple one-liner that returns `matplotlib.pyplot`. By convention, use it as follows to obtain the commonly used `plt` object:\n"
   ]
  },
  {
   "cell_type": "code",
   "execution_count": null,
   "metadata": {},
   "outputs": [],
   "source": [
    "plt = og.plot_style()"
   ]
  },
  {
   "cell_type": "markdown",
   "metadata": {},
   "source": [
    "# Load OpenGrid sample data and make simple plots"
   ]
  },
  {
   "cell_type": "markdown",
   "metadata": {},
   "source": [
    "### List available datasets\n",
    "\n",
    "We have included a few sample datasets in the opengrid module. They are stored as zipped pandas dataframe pickles and can be listed and loaded automatically with the `opengrid.datasets` module."
   ]
  },
  {
   "cell_type": "code",
   "execution_count": null,
   "metadata": {},
   "outputs": [],
   "source": [
    "og.datasets.list_available()"
   ]
  },
  {
   "cell_type": "code",
   "execution_count": null,
   "metadata": {},
   "outputs": [],
   "source": [
    "# load the hourly gas consumption for 2016 and see what's inside\n",
    "df = og.datasets.get('gas_2016_hour')\n",
    "df.info()"
   ]
  },
  {
   "cell_type": "markdown",
   "metadata": {},
   "source": [
    "The data is loaded into a `pandas.DataFrame` object called `df`.  With `df.info()` we can see what's inside: 3 columns of data with 8785 datapoints each.  The index is an hourly `pandas.DatetimeIndex` for 2016 in local time (UCT+1).\n",
    "\n",
    "Below, we will use some other pandas functionality for plotting and resampling the data to monthly values.  See the <a href=\"https://pandas.pydata.org\" target=\"_blank\">documentation of pandas</a> for more info.  \n",
    "\n",
    "### Make a few plots"
   ]
  },
  {
   "cell_type": "code",
   "execution_count": null,
   "metadata": {},
   "outputs": [],
   "source": [
    "# First we use the pandas wrapper for matplotlib plots to generate two different time series plots\n",
    "fig = df.plot()\n",
    "fig = df.plot(subplots=True)"
   ]
  },
  {
   "cell_type": "code",
   "execution_count": null,
   "metadata": {},
   "outputs": [],
   "source": [
    "# now we resample the data to monthly values and create a bar chart with pandas\n",
    "df_month = df.resample(rule='MS').sum()\n",
    "# conversion from Wh to kWh\n",
    "df_month = df_month/1000 \n",
    "# create the plot\n",
    "ax = df_month.plot(kind='bar')\n",
    "# add the ylabel. The '_ = ' in front of the command is only to hide the output of this notebook cell.\n",
    "_ = ax.set_ylabel('kWh')"
   ]
  },
  {
   "cell_type": "code",
   "execution_count": null,
   "metadata": {},
   "outputs": [],
   "source": [
    "# compute the total consumption of each of the sensors (in kWh/year)\n",
    "df_month.sum()"
   ]
  },
  {
   "cell_type": "markdown",
   "metadata": {},
   "source": [
    "That's it for this introduction.  You can look at more notebooks with demos on the <a href=\"https://opengridcc.github.io\" target=\"_blank\">opengrid homepage</a>. "
   ]
  }
 ],
 "metadata": {
  "kernelspec": {
   "display_name": "Python 3",
   "language": "python",
   "name": "python3"
  },
  "language_info": {
   "codemirror_mode": {
    "name": "ipython",
    "version": 3
   },
   "file_extension": ".py",
   "mimetype": "text/x-python",
   "name": "python",
   "nbconvert_exporter": "python",
   "pygments_lexer": "ipython3",
   "version": "3.6.4"
  }
 },
 "nbformat": 4,
 "nbformat_minor": 2
}
