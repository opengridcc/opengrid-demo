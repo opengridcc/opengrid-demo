{
 "cells": [
  {
   "cell_type": "markdown",
   "metadata": {},
   "source": [
    "# Multi-variable linear regression\n",
    "\n",
    "The multivariable linear regression analysis is used to create a model of a single variable, typically an energy consumption. We call this the *dependent* variable y.  The model is constructed as a linear combination of *explanatory* or *independent* variables (x), like weather measurements or occupation. More information can be found on <a href=\"https://en.wikipedia.org/wiki/Linear_regression\" target=\"_blank\">wikipedia</a>.\n",
    "\n",
    "The model is static.  This means that the data set should not contain dynamic effects.  For buildings, dynamic effects are mostly neglegible on a weekly basis unless the building has a very high thermal inertia.\n",
    "\n",
    "Typical use of this analysis is to create a model of eg. the gas consumption of a building, and then use this model to detect and quantify changes in the gas consumption.  For example, the savings resulting from a new gas boiler can be computed as the difference between the consumption predicted by the model and the actual consumption. \n"
   ]
  },
  {
   "cell_type": "markdown",
   "metadata": {},
   "source": [
    "### Imports and loading data"
   ]
  },
  {
   "cell_type": "code",
   "execution_count": null,
   "metadata": {},
   "outputs": [],
   "source": [
    "import opengrid as og\n",
    "import pandas as pd"
   ]
  },
  {
   "cell_type": "code",
   "execution_count": null,
   "metadata": {},
   "outputs": [],
   "source": [
    "df = og.datasets.get('gas_2016_hour')\n",
    "# for this demo, we only compute a model for the sensor 313b\n",
    "df = df[['313b']]\n",
    "# load weather\n",
    "dfw = og.datasets.get('weather_2016_hour')"
   ]
  },
  {
   "cell_type": "markdown",
   "metadata": {},
   "source": [
    "### Compute degree-days\n",
    "\n",
    "First we compute heating degree-days for different base temperatures. More information on the computation of degree-days can be found in [this demo](https://opengridcc.github.io/analysis/degree-days)."
   ]
  },
  {
   "cell_type": "code",
   "execution_count": null,
   "metadata": {},
   "outputs": [],
   "source": [
    "%matplotlib inline"
   ]
  },
  {
   "cell_type": "code",
   "execution_count": null,
   "metadata": {},
   "outputs": [],
   "source": [
    "# resample weather data to daily values and compute degree-days\n",
    "dfw = dfw.resample('D').mean()\n",
    "dfw_HDD = og.library.weather.compute_degree_days(ts=dfw['temperature'],\n",
    "                                                  heating_base_temperatures=range(8, 18, 2),\n",
    "                                                  cooling_base_temperatures=range(16, 26, 2)).bfill()"
   ]
  },
  {
   "cell_type": "code",
   "execution_count": null,
   "metadata": {},
   "outputs": [],
   "source": [
    "# resample the gas consumption to daily values and add the weather data and the degree-days\n",
    "df_day = df.resample('D').sum()/1000. # kWh/day\n",
    "df_day = pd.concat([df_day, dfw, dfw_HDD], axis=1).loc['2016']"
   ]
  },
  {
   "cell_type": "markdown",
   "metadata": {},
   "source": [
    "# Create a monthly model for the gas consumption "
   ]
  },
  {
   "cell_type": "code",
   "execution_count": null,
   "metadata": {},
   "outputs": [],
   "source": [
    "# resample to monthly data \n",
    "df_month = df_day.resample('MS').sum()\n",
    "# we use the first half of 2016 as training data and will use the model to predict the second half of 2016\n",
    "df_training = df_month.loc[:'2016-06-01']"
   ]
  },
  {
   "cell_type": "code",
   "execution_count": null,
   "metadata": {},
   "outputs": [],
   "source": [
    "# create the model\n",
    "mvlr = og.MultiVarLinReg(df_training, y='313b')\n",
    "mvlr.do_analysis()\n",
    "# now use the entire year for making a plot (will also make the predictions)\n",
    "mvlr.plot(df=df_month)"
   ]
  },
  {
   "cell_type": "code",
   "execution_count": null,
   "metadata": {},
   "outputs": [],
   "source": [
    "# we can also obtain some statistical info about the obtained model\n",
    "print(mvlr.fit.summary())"
   ]
  },
  {
   "cell_type": "code",
   "execution_count": null,
   "metadata": {},
   "outputs": [],
   "source": []
  }
 ],
 "metadata": {
  "kernelspec": {
   "display_name": "Python 3",
   "language": "python",
   "name": "python3"
  },
  "language_info": {
   "codemirror_mode": {
    "name": "ipython",
    "version": 3
   },
   "file_extension": ".py",
   "mimetype": "text/x-python",
   "name": "python",
   "nbconvert_exporter": "python",
   "pygments_lexer": "ipython3",
   "version": "3.6.4"
  }
 },
 "nbformat": 4,
 "nbformat_minor": 1
}
