{
 "cells": [
  {
   "cell_type": "markdown",
   "metadata": {},
   "source": [
    "# Compute degree-days for heating and cooling\n",
    "\n",
    "This notebook shows how to compute degree-days for heating and/or cooling from the ambient temperature.  We compute degree-days with different base temperatures.  This is a very useful input for eg. multivarible analyses, like <a href=\"https://opengridcc.github.io/analysis/mvar\" target=\"_parent\">this one</a>."
   ]
  },
  {
   "cell_type": "markdown",
   "metadata": {},
   "source": [
    "# Imports"
   ]
  },
  {
   "cell_type": "code",
   "execution_count": null,
   "metadata": {},
   "outputs": [],
   "source": [
    "import opengrid as og\n",
    "import pandas as pd"
   ]
  },
  {
   "cell_type": "code",
   "execution_count": null,
   "metadata": {},
   "outputs": [],
   "source": [
    "plt = og.plot_style()"
   ]
  },
  {
   "cell_type": "markdown",
   "metadata": {},
   "source": [
    "# Prepare dataset"
   ]
  },
  {
   "cell_type": "code",
   "execution_count": null,
   "metadata": {},
   "outputs": [],
   "source": [
    "# A dataset with hourly weather variables for Brussels (2016) is included in OpenGrid.  \n",
    "# Note that the data contains also the last week of 2015. \n",
    "# This is required in order for the degree-days computation to work for the first days of January. \n",
    "dfw = og.datasets.get('weather_2016_hour')"
   ]
  },
  {
   "cell_type": "code",
   "execution_count": null,
   "metadata": {},
   "outputs": [],
   "source": [
    "# We only need temperature\n",
    "temp = dfw.temperature"
   ]
  },
  {
   "cell_type": "markdown",
   "metadata": {},
   "source": [
    "Degree-days work on daily data, so we want to resample our dataset to the daily mean."
   ]
  },
  {
   "cell_type": "code",
   "execution_count": null,
   "metadata": {},
   "outputs": [],
   "source": [
    "temp = temp.resample('D').mean()"
   ]
  },
  {
   "cell_type": "code",
   "execution_count": null,
   "metadata": {},
   "outputs": [],
   "source": [
    "fig = temp.plot()"
   ]
  },
  {
   "cell_type": "markdown",
   "metadata": {},
   "source": [
    "# Compute degree days"
   ]
  },
  {
   "cell_type": "code",
   "execution_count": null,
   "metadata": {},
   "outputs": [],
   "source": [
    "# set base temperatures\n",
    "heating_base_temperatures = range(8, 18, 2) # 8, 10, 12, 14, 16, 18\n",
    "cooling_base_temperatures = range(16, 26, 2) # 16, 18, ..."
   ]
  },
  {
   "cell_type": "code",
   "execution_count": null,
   "metadata": {},
   "outputs": [],
   "source": [
    "# compute degree days for each of the base temperatures and return them in a dataframe called DD\n",
    "DD = og.library.weather.compute_degree_days(\n",
    "    ts=temp,\n",
    "    heating_base_temperatures=heating_base_temperatures,\n",
    "    cooling_base_temperatures=cooling_base_temperatures\n",
    ")\n",
    "# restrict the dataframe to 2016\n",
    "DD = DD.loc['2016']"
   ]
  },
  {
   "cell_type": "markdown",
   "metadata": {},
   "source": [
    "### Plot weekly degree days\n",
    "\n",
    "We resample the daily degree-days to weekly sums and plot the results. "
   ]
  },
  {
   "cell_type": "code",
   "execution_count": null,
   "metadata": {},
   "outputs": [],
   "source": [
    "DD_weekly = DD.resample('W').sum()"
   ]
  },
  {
   "cell_type": "code",
   "execution_count": null,
   "metadata": {},
   "outputs": [],
   "source": [
    "fig = DD_weekly.filter(like='HDD').plot()\n",
    "fig.set_title('Weekly heating degree-days with different base temperatures')\n",
    "plt.show()"
   ]
  },
  {
   "cell_type": "code",
   "execution_count": null,
   "metadata": {},
   "outputs": [],
   "source": [
    "fig = DD_weekly.filter(like='CDD').plot()\n",
    "fig.set_title('Weekly cooling degree-days with different base temperatures')\n",
    "plt.show()"
   ]
  },
  {
   "cell_type": "code",
   "execution_count": null,
   "metadata": {},
   "outputs": [],
   "source": []
  }
 ],
 "metadata": {
  "kernelspec": {
   "display_name": "Python 3",
   "language": "python",
   "name": "python3"
  },
  "language_info": {
   "codemirror_mode": {
    "name": "ipython",
    "version": 3
   },
   "file_extension": ".py",
   "mimetype": "text/x-python",
   "name": "python",
   "nbconvert_exporter": "python",
   "pygments_lexer": "ipython3",
   "version": "3.6.4"
  }
 },
 "nbformat": 4,
 "nbformat_minor": 1
}
